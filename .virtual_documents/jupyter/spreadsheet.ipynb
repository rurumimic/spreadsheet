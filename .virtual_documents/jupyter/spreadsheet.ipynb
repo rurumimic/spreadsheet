# import numpy as np
# import pandas as pd


import dask.dataframe as dd

# import dask.array as da
# import dask.bag as db


from pathlib import Path

project_dir = Path().resolve().parent  # spreadsheet
data_dir = project_dir.joinpath("data")  # spreadsheet/data


csv_files = {
    "fruits": str(data_dir.joinpath("fruits.csv")),
    "sejongpac_performs": str(data_dir.joinpath("sejongpac_performs.csv")),
}


df = dd.read_csv(csv_files["fruits"])


df.head()


df.dtypes


df.describe()


df = dd.read_csv(
    csv_files["sejongpac_performs"],
    dtype={
        "공연시작일": "float64",
        "공연종료일": "float64",
        "썸네일이미지": "object",
        "출연진 소개": "object",
        "프로그램 정보": "object",
    },
    blocksize=1e6,
)


df.head(2)


len(df)


df.dtypes


df[["공연코드", "공연시작일"]].compute()


from dataclasses import dataclass
from pathlib import Path
from typing import Optional, List

import dask.dataframe as dd


@dataclass
class Spreadsheet:
    src: str
    dest: Optional[str] = None
    length: Optional[int] = None

    def __post_init__(self):
        self.df = dd.read_csv(self.src)
        self.length = len(s.raw().index)

    def raw(self):
        return self.df.copy()

    def head(self):
        return self.df.head()

    def columns(self):
        return self.df.columns  # Index([columns...], dtype='object')

    def loc(self, rows=slice(0, None, 1), columns=None):
        return self.df.loc[rows, columns]

    def iloc(self, columns=slice(0, None, 1)):
        return self.df.iloc[:, columns]


s = Spreadsheet(src=csv_files["fruits"])


s.raw().loc[slice(4, 9), ['name', 'count']].compute()


s.raw().iloc[:, slice(1, 3)].compute()


s.raw().loc[1:4].compute()


s.iloc().head()


s.raw().info(verbose=True, memory_usage=True)


s.columns()



