# import numpy as np
# import pandas as pd


import dask.dataframe as dd

# import dask.array as da
# import dask.bag as db


df = dd.read_csv(
    "../data/sejongpac_performs.csv",
    dtype={
        "공연시작일": "object",
        "공연종료일": "object",
        "썸네일이미지": "object",
        "출연진 소개": "object",
        "프로그램 정보": "object",
    },
)


df.head()



