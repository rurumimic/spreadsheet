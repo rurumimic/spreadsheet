from pathlib import Path

project_dir = Path().resolve().parent  # spreadsheet
data_dir = project_dir.joinpath("data")  # spreadsheet/data


csv_files = {
    "fruits": str(data_dir.joinpath("fruits.csv")),
    "sejongpac_performs": str(data_dir.joinpath("sejongpac_performs.csv")),
}


count = 0
with open(csv_files["fruits"], "r") as file:
    for line in file:
        count = count + 1
        print(count, line.rstrip("\n"))


count = 0
with open(csv_files["fruits"], "r") as file:
    for line in file:
        count = count + 1
        raw = line.rstrip("\n")
        encoded = raw.replace(",", "\t")
        print(count, encoded)


import re


def regex_compile(pattern):
    return re.compile(r"{pattern}".format(pattern=pattern))


p = regex_compile("berry")


count = 0
with open(csv_files["fruits"], "r") as file:
    for line in file:
        count = count + 1
        raw = line.rstrip("\n")
        m = p.search(raw)
        if m:
            print("match", raw)






