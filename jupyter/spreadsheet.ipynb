{
 "cells": [
  {
   "cell_type": "markdown",
   "id": "65a2a5cc-dfc7-4e4b-a20e-e314be98587f",
   "metadata": {},
   "source": [
    "# Spreadsheet\n",
    "## Dask"
   ]
  },
  {
   "cell_type": "code",
   "execution_count": 1,
   "id": "4a9d4ea9-961d-483b-a81d-86a7eb041f82",
   "metadata": {},
   "outputs": [],
   "source": [
    "# import numpy as np\n",
    "# import pandas as pd"
   ]
  },
  {
   "cell_type": "code",
   "execution_count": 2,
   "id": "7d07fc3e-e14f-49ce-b6ce-e88138115848",
   "metadata": {},
   "outputs": [],
   "source": [
    "import dask.dataframe as dd\n",
    "\n",
    "# import dask.array as da\n",
    "# import dask.bag as db"
   ]
  },
  {
   "cell_type": "markdown",
   "id": "ad048153-fa4a-4dc3-8fa9-8cbb799e932a",
   "metadata": {},
   "source": [
    "## 데이터"
   ]
  },
  {
   "cell_type": "code",
   "execution_count": 3,
   "id": "00a812d7-2f8e-46c5-8d09-964fb36913b4",
   "metadata": {},
   "outputs": [],
   "source": [
    "from pathlib import Path\n",
    "\n",
    "project_dir = Path().resolve().parent  # spreadsheet\n",
    "data_dir = project_dir.joinpath(\"data\")  # spreadsheet/data"
   ]
  },
  {
   "cell_type": "code",
   "execution_count": 4,
   "id": "a60d9aa3-8440-47d4-b3cc-d355178ca93f",
   "metadata": {},
   "outputs": [],
   "source": [
    "csv_files = {\n",
    "    \"fruits\": str(data_dir.joinpath(\"fruits.csv\")),\n",
    "    \"sejongpac_performs\": str(data_dir.joinpath(\"sejongpac_performs.csv\")),\n",
    "}"
   ]
  },
  {
   "cell_type": "markdown",
   "id": "c3024c46-b3a8-43ca-8793-625985bad236",
   "metadata": {},
   "source": [
    "### 과일"
   ]
  },
  {
   "cell_type": "code",
   "execution_count": 5,
   "id": "492aa685-52cd-42aa-857b-0102d4b20819",
   "metadata": {},
   "outputs": [],
   "source": [
    "df = dd.read_csv(csv_files[\"fruits\"])"
   ]
  },
  {
   "cell_type": "code",
   "execution_count": 6,
   "id": "1299c5e7-5ef0-4241-bfcb-a0d39cdf36d4",
   "metadata": {},
   "outputs": [
    {
     "data": {
      "text/html": [
       "<div>\n",
       "<style scoped>\n",
       "    .dataframe tbody tr th:only-of-type {\n",
       "        vertical-align: middle;\n",
       "    }\n",
       "\n",
       "    .dataframe tbody tr th {\n",
       "        vertical-align: top;\n",
       "    }\n",
       "\n",
       "    .dataframe thead th {\n",
       "        text-align: right;\n",
       "    }\n",
       "</style>\n",
       "<table border=\"1\" class=\"dataframe\">\n",
       "  <thead>\n",
       "    <tr style=\"text-align: right;\">\n",
       "      <th></th>\n",
       "      <th>id</th>\n",
       "      <th>name</th>\n",
       "      <th>price</th>\n",
       "      <th>count</th>\n",
       "    </tr>\n",
       "  </thead>\n",
       "  <tbody>\n",
       "    <tr>\n",
       "      <th>0</th>\n",
       "      <td>1</td>\n",
       "      <td>apple</td>\n",
       "      <td>3.0</td>\n",
       "      <td>15</td>\n",
       "    </tr>\n",
       "    <tr>\n",
       "      <th>1</th>\n",
       "      <td>2</td>\n",
       "      <td>banana</td>\n",
       "      <td>2.7</td>\n",
       "      <td>8</td>\n",
       "    </tr>\n",
       "    <tr>\n",
       "      <th>2</th>\n",
       "      <td>3</td>\n",
       "      <td>coconut</td>\n",
       "      <td>9.1</td>\n",
       "      <td>12</td>\n",
       "    </tr>\n",
       "    <tr>\n",
       "      <th>3</th>\n",
       "      <td>4</td>\n",
       "      <td>dragonfruit</td>\n",
       "      <td>5.0</td>\n",
       "      <td>2</td>\n",
       "    </tr>\n",
       "    <tr>\n",
       "      <th>4</th>\n",
       "      <td>5</td>\n",
       "      <td>eggplant</td>\n",
       "      <td>2.4</td>\n",
       "      <td>13</td>\n",
       "    </tr>\n",
       "  </tbody>\n",
       "</table>\n",
       "</div>"
      ],
      "text/plain": [
       "   id         name  price  count\n",
       "0   1        apple    3.0     15\n",
       "1   2       banana    2.7      8\n",
       "2   3      coconut    9.1     12\n",
       "3   4  dragonfruit    5.0      2\n",
       "4   5     eggplant    2.4     13"
      ]
     },
     "execution_count": 6,
     "metadata": {},
     "output_type": "execute_result"
    }
   ],
   "source": [
    "df.head()"
   ]
  },
  {
   "cell_type": "code",
   "execution_count": 7,
   "id": "caced3b0-f19d-448f-8c52-9e1894ea6380",
   "metadata": {},
   "outputs": [
    {
     "data": {
      "text/plain": [
       "id         int64\n",
       "name      object\n",
       "price    float64\n",
       "count      int64\n",
       "dtype: object"
      ]
     },
     "execution_count": 7,
     "metadata": {},
     "output_type": "execute_result"
    }
   ],
   "source": [
    "df.dtypes"
   ]
  },
  {
   "cell_type": "code",
   "execution_count": 8,
   "id": "d577deb9-7299-4224-b07d-0c9bd545a0c1",
   "metadata": {},
   "outputs": [
    {
     "data": {
      "text/html": [
       "<div><strong>Dask DataFrame Structure:</strong></div>\n",
       "<div>\n",
       "<style scoped>\n",
       "    .dataframe tbody tr th:only-of-type {\n",
       "        vertical-align: middle;\n",
       "    }\n",
       "\n",
       "    .dataframe tbody tr th {\n",
       "        vertical-align: top;\n",
       "    }\n",
       "\n",
       "    .dataframe thead th {\n",
       "        text-align: right;\n",
       "    }\n",
       "</style>\n",
       "<table border=\"1\" class=\"dataframe\">\n",
       "  <thead>\n",
       "    <tr style=\"text-align: right;\">\n",
       "      <th></th>\n",
       "      <th>id</th>\n",
       "      <th>price</th>\n",
       "      <th>count</th>\n",
       "    </tr>\n",
       "    <tr>\n",
       "      <th>npartitions=1</th>\n",
       "      <th></th>\n",
       "      <th></th>\n",
       "      <th></th>\n",
       "    </tr>\n",
       "  </thead>\n",
       "  <tbody>\n",
       "    <tr>\n",
       "      <th></th>\n",
       "      <td>float64</td>\n",
       "      <td>float64</td>\n",
       "      <td>float64</td>\n",
       "    </tr>\n",
       "    <tr>\n",
       "      <th></th>\n",
       "      <td>...</td>\n",
       "      <td>...</td>\n",
       "      <td>...</td>\n",
       "    </tr>\n",
       "  </tbody>\n",
       "</table>\n",
       "</div>\n",
       "<div>Dask Name: describe-numeric, 32 tasks</div>"
      ],
      "text/plain": [
       "Dask DataFrame Structure:\n",
       "                    id    price    count\n",
       "npartitions=1                           \n",
       "               float64  float64  float64\n",
       "                   ...      ...      ...\n",
       "Dask Name: describe-numeric, 32 tasks"
      ]
     },
     "execution_count": 8,
     "metadata": {},
     "output_type": "execute_result"
    }
   ],
   "source": [
    "df.describe()"
   ]
  },
  {
   "cell_type": "markdown",
   "id": "12a33fb6-d9af-4708-a24d-859cef9a0323",
   "metadata": {},
   "source": [
    "### 서울시 세종문화회관 공연 및 전시 정보"
   ]
  },
  {
   "cell_type": "code",
   "execution_count": 9,
   "id": "3867991f-29e4-4d20-a3a9-1a027995b368",
   "metadata": {},
   "outputs": [],
   "source": [
    "df = dd.read_csv(\n",
    "    csv_files[\"sejongpac_performs\"],\n",
    "    dtype={\n",
    "        \"공연시작일\": \"float64\",\n",
    "        \"공연종료일\": \"float64\",\n",
    "        \"썸네일이미지\": \"object\",\n",
    "        \"출연진 소개\": \"object\",\n",
    "        \"프로그램 정보\": \"object\",\n",
    "    },\n",
    "    blocksize=1e6,\n",
    ")"
   ]
  },
  {
   "cell_type": "code",
   "execution_count": 10,
   "id": "0c4c7d32-d7d8-4f4a-a624-e81d62fac0f1",
   "metadata": {},
   "outputs": [
    {
     "data": {
      "text/html": [
       "<div>\n",
       "<style scoped>\n",
       "    .dataframe tbody tr th:only-of-type {\n",
       "        vertical-align: middle;\n",
       "    }\n",
       "\n",
       "    .dataframe tbody tr th {\n",
       "        vertical-align: top;\n",
       "    }\n",
       "\n",
       "    .dataframe thead th {\n",
       "        text-align: right;\n",
       "    }\n",
       "</style>\n",
       "<table border=\"1\" class=\"dataframe\">\n",
       "  <thead>\n",
       "    <tr style=\"text-align: right;\">\n",
       "      <th></th>\n",
       "      <th>공연코드</th>\n",
       "      <th>공연명</th>\n",
       "      <th>공연시작일</th>\n",
       "      <th>공연종료일</th>\n",
       "      <th>장소</th>\n",
       "      <th>시간</th>\n",
       "      <th>연령</th>\n",
       "      <th>기획사</th>\n",
       "      <th>문의전화</th>\n",
       "      <th>티켓정보</th>\n",
       "      <th>할인정보</th>\n",
       "      <th>유료할인율</th>\n",
       "      <th>장르</th>\n",
       "      <th>게시여부</th>\n",
       "      <th>게시여부명</th>\n",
       "      <th>썸네일이미지</th>\n",
       "      <th>공연개요</th>\n",
       "      <th>프로그램 정보</th>\n",
       "      <th>출연진 소개</th>\n",
       "    </tr>\n",
       "  </thead>\n",
       "  <tbody>\n",
       "    <tr>\n",
       "      <th>0</th>\n",
       "      <td>b1dt2206091514a01</td>\n",
       "      <td>(TEST) 전시연동테스트 공연_세종미술관</td>\n",
       "      <td>20250601.0</td>\n",
       "      <td>20250630.0</td>\n",
       "      <td>세종미술관 1관</td>\n",
       "      <td>NaN</td>\n",
       "      <td>NaN</td>\n",
       "      <td>NaN</td>\n",
       "      <td>NaN</td>\n",
       "      <td>NaN</td>\n",
       "      <td>NaN</td>\n",
       "      <td>NaN</td>\n",
       "      <td>기획전시</td>\n",
       "      <td>Y</td>\n",
       "      <td>공개</td>\n",
       "      <td>NaN</td>\n",
       "      <td>NaN</td>\n",
       "      <td>NaN</td>\n",
       "      <td>NaN</td>\n",
       "    </tr>\n",
       "    <tr>\n",
       "      <th>1</th>\n",
       "      <td>dt2206091515a01</td>\n",
       "      <td>(TEST) 전시연동테스트 공연_상상톡톡미술관</td>\n",
       "      <td>20250601.0</td>\n",
       "      <td>20250630.0</td>\n",
       "      <td>꿈의숲 상상톡톡미술관</td>\n",
       "      <td>NaN</td>\n",
       "      <td>NaN</td>\n",
       "      <td>NaN</td>\n",
       "      <td>NaN</td>\n",
       "      <td>NaN</td>\n",
       "      <td>NaN</td>\n",
       "      <td>NaN</td>\n",
       "      <td>기획전시</td>\n",
       "      <td>Y</td>\n",
       "      <td>공개</td>\n",
       "      <td>NaN</td>\n",
       "      <td>NaN</td>\n",
       "      <td>NaN</td>\n",
       "      <td>NaN</td>\n",
       "    </tr>\n",
       "  </tbody>\n",
       "</table>\n",
       "</div>"
      ],
      "text/plain": [
       "                공연코드                        공연명       공연시작일       공연종료일  \\\n",
       "0  b1dt2206091514a01    (TEST) 전시연동테스트 공연_세종미술관  20250601.0  20250630.0   \n",
       "1    dt2206091515a01  (TEST) 전시연동테스트 공연_상상톡톡미술관  20250601.0  20250630.0   \n",
       "\n",
       "            장소   시간   연령  기획사 문의전화 티켓정보 할인정보  유료할인율    장르 게시여부 게시여부명 썸네일이미지  \\\n",
       "0     세종미술관 1관  NaN  NaN  NaN  NaN  NaN  NaN    NaN  기획전시    Y    공개    NaN   \n",
       "1  꿈의숲 상상톡톡미술관  NaN  NaN  NaN  NaN  NaN  NaN    NaN  기획전시    Y    공개    NaN   \n",
       "\n",
       "  공연개요 프로그램 정보 출연진 소개  \n",
       "0  NaN     NaN    NaN  \n",
       "1  NaN     NaN    NaN  "
      ]
     },
     "execution_count": 10,
     "metadata": {},
     "output_type": "execute_result"
    }
   ],
   "source": [
    "df.head(2)"
   ]
  },
  {
   "cell_type": "code",
   "execution_count": 11,
   "id": "b6497919-6fb1-403d-8430-1112f63ba93c",
   "metadata": {},
   "outputs": [
    {
     "data": {
      "text/plain": [
       "1799"
      ]
     },
     "execution_count": 11,
     "metadata": {},
     "output_type": "execute_result"
    }
   ],
   "source": [
    "len(df)"
   ]
  },
  {
   "cell_type": "markdown",
   "id": "bc674d7f-eb63-4808-a4aa-9d8976fb3777",
   "metadata": {},
   "source": [
    "#### 컬럼"
   ]
  },
  {
   "cell_type": "code",
   "execution_count": 12,
   "id": "a3bc736e-784b-4692-b352-1b943f71b5f2",
   "metadata": {},
   "outputs": [
    {
     "data": {
      "text/plain": [
       "공연코드        object\n",
       "공연명         object\n",
       "공연시작일      float64\n",
       "공연종료일      float64\n",
       "장소          object\n",
       "시간          object\n",
       "연령          object\n",
       "기획사         object\n",
       "문의전화        object\n",
       "티켓정보        object\n",
       "할인정보        object\n",
       "유료할인율      float64\n",
       "장르          object\n",
       "게시여부        object\n",
       "게시여부명       object\n",
       "썸네일이미지      object\n",
       "공연개요        object\n",
       "프로그램 정보     object\n",
       "출연진 소개      object\n",
       "dtype: object"
      ]
     },
     "execution_count": 12,
     "metadata": {},
     "output_type": "execute_result"
    }
   ],
   "source": [
    "df.dtypes"
   ]
  },
  {
   "cell_type": "code",
   "execution_count": 13,
   "id": "c82ff9a9-10fd-48bd-9697-2ed11727ff20",
   "metadata": {},
   "outputs": [
    {
     "data": {
      "text/html": [
       "<div>\n",
       "<style scoped>\n",
       "    .dataframe tbody tr th:only-of-type {\n",
       "        vertical-align: middle;\n",
       "    }\n",
       "\n",
       "    .dataframe tbody tr th {\n",
       "        vertical-align: top;\n",
       "    }\n",
       "\n",
       "    .dataframe thead th {\n",
       "        text-align: right;\n",
       "    }\n",
       "</style>\n",
       "<table border=\"1\" class=\"dataframe\">\n",
       "  <thead>\n",
       "    <tr style=\"text-align: right;\">\n",
       "      <th></th>\n",
       "      <th>공연코드</th>\n",
       "      <th>공연시작일</th>\n",
       "    </tr>\n",
       "  </thead>\n",
       "  <tbody>\n",
       "    <tr>\n",
       "      <th>0</th>\n",
       "      <td>b1dt2206091514a01</td>\n",
       "      <td>20250601.0</td>\n",
       "    </tr>\n",
       "    <tr>\n",
       "      <th>1</th>\n",
       "      <td>dt2206091515a01</td>\n",
       "      <td>20250601.0</td>\n",
       "    </tr>\n",
       "    <tr>\n",
       "      <th>2</th>\n",
       "      <td>chpi2204141747a01</td>\n",
       "      <td>20221126.0</td>\n",
       "    </tr>\n",
       "    <tr>\n",
       "      <th>3</th>\n",
       "      <td>chpi2204141743a01</td>\n",
       "      <td>20220917.0</td>\n",
       "    </tr>\n",
       "    <tr>\n",
       "      <th>4</th>\n",
       "      <td>chpi2205022005a01</td>\n",
       "      <td>20220917.0</td>\n",
       "    </tr>\n",
       "    <tr>\n",
       "      <th>...</th>\n",
       "      <td>...</td>\n",
       "      <td>...</td>\n",
       "    </tr>\n",
       "    <tr>\n",
       "      <th>221</th>\n",
       "      <td>chpi2011051510001</td>\n",
       "      <td>20210103.0</td>\n",
       "    </tr>\n",
       "    <tr>\n",
       "      <th>222</th>\n",
       "      <td>chpi2011271017001</td>\n",
       "      <td>20210102.0</td>\n",
       "    </tr>\n",
       "    <tr>\n",
       "      <th>223</th>\n",
       "      <td>pi2012211006001</td>\n",
       "      <td>20210102.0</td>\n",
       "    </tr>\n",
       "    <tr>\n",
       "      <th>224</th>\n",
       "      <td>pi2012221340001</td>\n",
       "      <td>20210102.0</td>\n",
       "    </tr>\n",
       "    <tr>\n",
       "      <th>225</th>\n",
       "      <td>b1de2011051341001</td>\n",
       "      <td>20210101.0</td>\n",
       "    </tr>\n",
       "  </tbody>\n",
       "</table>\n",
       "<p>1799 rows × 2 columns</p>\n",
       "</div>"
      ],
      "text/plain": [
       "                  공연코드       공연시작일\n",
       "0    b1dt2206091514a01  20250601.0\n",
       "1      dt2206091515a01  20250601.0\n",
       "2    chpi2204141747a01  20221126.0\n",
       "3    chpi2204141743a01  20220917.0\n",
       "4    chpi2205022005a01  20220917.0\n",
       "..                 ...         ...\n",
       "221  chpi2011051510001  20210103.0\n",
       "222  chpi2011271017001  20210102.0\n",
       "223    pi2012211006001  20210102.0\n",
       "224    pi2012221340001  20210102.0\n",
       "225  b1de2011051341001  20210101.0\n",
       "\n",
       "[1799 rows x 2 columns]"
      ]
     },
     "execution_count": 13,
     "metadata": {},
     "output_type": "execute_result"
    }
   ],
   "source": [
    "df[[\"공연코드\", \"공연시작일\"]].compute()"
   ]
  },
  {
   "cell_type": "markdown",
   "id": "dfbbe0ea-d2f0-4338-8abe-7f8c4a1851e5",
   "metadata": {},
   "source": [
    "## CSV 처리 클래스"
   ]
  },
  {
   "cell_type": "code",
   "execution_count": 189,
   "id": "e647b15b-0f6b-465d-8986-f413808c40d0",
   "metadata": {},
   "outputs": [],
   "source": [
    "from dataclasses import dataclass\n",
    "from pathlib import Path\n",
    "from typing import Optional, List\n",
    "\n",
    "import dask.dataframe as dd\n",
    "\n",
    "\n",
    "@dataclass\n",
    "class Spreadsheet:\n",
    "    src: str\n",
    "    dest: Optional[str] = None\n",
    "    length: Optional[int] = None\n",
    "\n",
    "    def __post_init__(self):\n",
    "        self.df = dd.read_csv(self.src)\n",
    "        self.length = len(s.raw().index)\n",
    "\n",
    "    def raw(self):\n",
    "        return self.df.copy()\n",
    "\n",
    "    def head(self):\n",
    "        return self.df.head()\n",
    "\n",
    "    def columns(self):\n",
    "        return self.df.columns  # Index([columns...], dtype='object')\n",
    "\n",
    "    def loc(self, rows=slice(0, None, 1), columns=None):\n",
    "        return self.df.loc[rows, columns]\n",
    "\n",
    "    def iloc(self, columns=slice(0, None, 1)):\n",
    "        return self.df.iloc[:, columns]"
   ]
  },
  {
   "cell_type": "code",
   "execution_count": 190,
   "id": "bacf152c-c07e-4476-8010-cee5db472f00",
   "metadata": {},
   "outputs": [],
   "source": [
    "s = Spreadsheet(src=csv_files[\"fruits\"])"
   ]
  },
  {
   "cell_type": "code",
   "execution_count": 197,
   "id": "e2bfcada-3ca8-4f08-b880-082abcdc3b8a",
   "metadata": {},
   "outputs": [
    {
     "data": {
      "text/html": [
       "<div>\n",
       "<style scoped>\n",
       "    .dataframe tbody tr th:only-of-type {\n",
       "        vertical-align: middle;\n",
       "    }\n",
       "\n",
       "    .dataframe tbody tr th {\n",
       "        vertical-align: top;\n",
       "    }\n",
       "\n",
       "    .dataframe thead th {\n",
       "        text-align: right;\n",
       "    }\n",
       "</style>\n",
       "<table border=\"1\" class=\"dataframe\">\n",
       "  <thead>\n",
       "    <tr style=\"text-align: right;\">\n",
       "      <th></th>\n",
       "      <th>name</th>\n",
       "      <th>count</th>\n",
       "    </tr>\n",
       "  </thead>\n",
       "  <tbody>\n",
       "    <tr>\n",
       "      <th>4</th>\n",
       "      <td>eggplant</td>\n",
       "      <td>13</td>\n",
       "    </tr>\n",
       "    <tr>\n",
       "      <th>5</th>\n",
       "      <td>fig</td>\n",
       "      <td>39</td>\n",
       "    </tr>\n",
       "    <tr>\n",
       "      <th>6</th>\n",
       "      <td>grapes</td>\n",
       "      <td>21</td>\n",
       "    </tr>\n",
       "    <tr>\n",
       "      <th>7</th>\n",
       "      <td>huckleberry</td>\n",
       "      <td>4</td>\n",
       "    </tr>\n",
       "    <tr>\n",
       "      <th>8</th>\n",
       "      <td>mango</td>\n",
       "      <td>1</td>\n",
       "    </tr>\n",
       "    <tr>\n",
       "      <th>9</th>\n",
       "      <td>orange</td>\n",
       "      <td>16</td>\n",
       "    </tr>\n",
       "  </tbody>\n",
       "</table>\n",
       "</div>"
      ],
      "text/plain": [
       "          name  count\n",
       "4     eggplant     13\n",
       "5          fig     39\n",
       "6       grapes     21\n",
       "7  huckleberry      4\n",
       "8        mango      1\n",
       "9       orange     16"
      ]
     },
     "execution_count": 197,
     "metadata": {},
     "output_type": "execute_result"
    }
   ],
   "source": [
    "s.raw().loc[slice(4, 9), ['name', 'count']].compute()"
   ]
  },
  {
   "cell_type": "code",
   "execution_count": 199,
   "id": "b82c5b11-2941-46e2-ad5d-4a7b903c96cf",
   "metadata": {},
   "outputs": [
    {
     "data": {
      "text/html": [
       "<div>\n",
       "<style scoped>\n",
       "    .dataframe tbody tr th:only-of-type {\n",
       "        vertical-align: middle;\n",
       "    }\n",
       "\n",
       "    .dataframe tbody tr th {\n",
       "        vertical-align: top;\n",
       "    }\n",
       "\n",
       "    .dataframe thead th {\n",
       "        text-align: right;\n",
       "    }\n",
       "</style>\n",
       "<table border=\"1\" class=\"dataframe\">\n",
       "  <thead>\n",
       "    <tr style=\"text-align: right;\">\n",
       "      <th></th>\n",
       "      <th>name</th>\n",
       "      <th>price</th>\n",
       "    </tr>\n",
       "  </thead>\n",
       "  <tbody>\n",
       "    <tr>\n",
       "      <th>0</th>\n",
       "      <td>apple</td>\n",
       "      <td>3.0</td>\n",
       "    </tr>\n",
       "    <tr>\n",
       "      <th>1</th>\n",
       "      <td>banana</td>\n",
       "      <td>2.7</td>\n",
       "    </tr>\n",
       "    <tr>\n",
       "      <th>2</th>\n",
       "      <td>coconut</td>\n",
       "      <td>9.1</td>\n",
       "    </tr>\n",
       "    <tr>\n",
       "      <th>3</th>\n",
       "      <td>dragonfruit</td>\n",
       "      <td>5.0</td>\n",
       "    </tr>\n",
       "    <tr>\n",
       "      <th>4</th>\n",
       "      <td>eggplant</td>\n",
       "      <td>2.4</td>\n",
       "    </tr>\n",
       "    <tr>\n",
       "      <th>5</th>\n",
       "      <td>fig</td>\n",
       "      <td>11.3</td>\n",
       "    </tr>\n",
       "    <tr>\n",
       "      <th>6</th>\n",
       "      <td>grapes</td>\n",
       "      <td>6.7</td>\n",
       "    </tr>\n",
       "    <tr>\n",
       "      <th>7</th>\n",
       "      <td>huckleberry</td>\n",
       "      <td>7.1</td>\n",
       "    </tr>\n",
       "    <tr>\n",
       "      <th>8</th>\n",
       "      <td>mango</td>\n",
       "      <td>5.4</td>\n",
       "    </tr>\n",
       "    <tr>\n",
       "      <th>9</th>\n",
       "      <td>orange</td>\n",
       "      <td>4.8</td>\n",
       "    </tr>\n",
       "    <tr>\n",
       "      <th>10</th>\n",
       "      <td>pineapple</td>\n",
       "      <td>7.9</td>\n",
       "    </tr>\n",
       "    <tr>\n",
       "      <th>11</th>\n",
       "      <td>watermelon</td>\n",
       "      <td>13.0</td>\n",
       "    </tr>\n",
       "    <tr>\n",
       "      <th>12</th>\n",
       "      <td>blueberry</td>\n",
       "      <td>4.9</td>\n",
       "    </tr>\n",
       "    <tr>\n",
       "      <th>13</th>\n",
       "      <td>peach</td>\n",
       "      <td>8.0</td>\n",
       "    </tr>\n",
       "    <tr>\n",
       "      <th>14</th>\n",
       "      <td>olives</td>\n",
       "      <td>3.8</td>\n",
       "    </tr>\n",
       "  </tbody>\n",
       "</table>\n",
       "</div>"
      ],
      "text/plain": [
       "           name  price\n",
       "0         apple    3.0\n",
       "1        banana    2.7\n",
       "2       coconut    9.1\n",
       "3   dragonfruit    5.0\n",
       "4      eggplant    2.4\n",
       "5           fig   11.3\n",
       "6        grapes    6.7\n",
       "7   huckleberry    7.1\n",
       "8         mango    5.4\n",
       "9        orange    4.8\n",
       "10    pineapple    7.9\n",
       "11   watermelon   13.0\n",
       "12    blueberry    4.9\n",
       "13        peach    8.0\n",
       "14       olives    3.8"
      ]
     },
     "execution_count": 199,
     "metadata": {},
     "output_type": "execute_result"
    }
   ],
   "source": [
    "s.raw().iloc[:, slice(1, 3)].compute()"
   ]
  },
  {
   "cell_type": "code",
   "execution_count": 108,
   "id": "19bbc269-5a1e-4032-835f-3f060da5a547",
   "metadata": {},
   "outputs": [
    {
     "data": {
      "text/html": [
       "<div>\n",
       "<style scoped>\n",
       "    .dataframe tbody tr th:only-of-type {\n",
       "        vertical-align: middle;\n",
       "    }\n",
       "\n",
       "    .dataframe tbody tr th {\n",
       "        vertical-align: top;\n",
       "    }\n",
       "\n",
       "    .dataframe thead th {\n",
       "        text-align: right;\n",
       "    }\n",
       "</style>\n",
       "<table border=\"1\" class=\"dataframe\">\n",
       "  <thead>\n",
       "    <tr style=\"text-align: right;\">\n",
       "      <th></th>\n",
       "      <th>id</th>\n",
       "      <th>name</th>\n",
       "      <th>price</th>\n",
       "      <th>count</th>\n",
       "    </tr>\n",
       "  </thead>\n",
       "  <tbody>\n",
       "    <tr>\n",
       "      <th>1</th>\n",
       "      <td>2</td>\n",
       "      <td>banana</td>\n",
       "      <td>2.7</td>\n",
       "      <td>8</td>\n",
       "    </tr>\n",
       "    <tr>\n",
       "      <th>2</th>\n",
       "      <td>3</td>\n",
       "      <td>coconut</td>\n",
       "      <td>9.1</td>\n",
       "      <td>12</td>\n",
       "    </tr>\n",
       "    <tr>\n",
       "      <th>3</th>\n",
       "      <td>4</td>\n",
       "      <td>dragonfruit</td>\n",
       "      <td>5.0</td>\n",
       "      <td>2</td>\n",
       "    </tr>\n",
       "    <tr>\n",
       "      <th>4</th>\n",
       "      <td>5</td>\n",
       "      <td>eggplant</td>\n",
       "      <td>2.4</td>\n",
       "      <td>13</td>\n",
       "    </tr>\n",
       "  </tbody>\n",
       "</table>\n",
       "</div>"
      ],
      "text/plain": [
       "   id         name  price  count\n",
       "1   2       banana    2.7      8\n",
       "2   3      coconut    9.1     12\n",
       "3   4  dragonfruit    5.0      2\n",
       "4   5     eggplant    2.4     13"
      ]
     },
     "execution_count": 108,
     "metadata": {},
     "output_type": "execute_result"
    }
   ],
   "source": [
    "s.raw().loc[1:4].compute()"
   ]
  },
  {
   "cell_type": "code",
   "execution_count": 177,
   "id": "468f2fa6-d9c1-4f52-b8c0-163d4d8e9a09",
   "metadata": {},
   "outputs": [
    {
     "data": {
      "text/html": [
       "<div>\n",
       "<style scoped>\n",
       "    .dataframe tbody tr th:only-of-type {\n",
       "        vertical-align: middle;\n",
       "    }\n",
       "\n",
       "    .dataframe tbody tr th {\n",
       "        vertical-align: top;\n",
       "    }\n",
       "\n",
       "    .dataframe thead th {\n",
       "        text-align: right;\n",
       "    }\n",
       "</style>\n",
       "<table border=\"1\" class=\"dataframe\">\n",
       "  <thead>\n",
       "    <tr style=\"text-align: right;\">\n",
       "      <th></th>\n",
       "      <th>id</th>\n",
       "      <th>name</th>\n",
       "      <th>price</th>\n",
       "      <th>count</th>\n",
       "    </tr>\n",
       "  </thead>\n",
       "  <tbody>\n",
       "    <tr>\n",
       "      <th>0</th>\n",
       "      <td>1</td>\n",
       "      <td>apple</td>\n",
       "      <td>3.0</td>\n",
       "      <td>15</td>\n",
       "    </tr>\n",
       "    <tr>\n",
       "      <th>1</th>\n",
       "      <td>2</td>\n",
       "      <td>banana</td>\n",
       "      <td>2.7</td>\n",
       "      <td>8</td>\n",
       "    </tr>\n",
       "    <tr>\n",
       "      <th>2</th>\n",
       "      <td>3</td>\n",
       "      <td>coconut</td>\n",
       "      <td>9.1</td>\n",
       "      <td>12</td>\n",
       "    </tr>\n",
       "    <tr>\n",
       "      <th>3</th>\n",
       "      <td>4</td>\n",
       "      <td>dragonfruit</td>\n",
       "      <td>5.0</td>\n",
       "      <td>2</td>\n",
       "    </tr>\n",
       "    <tr>\n",
       "      <th>4</th>\n",
       "      <td>5</td>\n",
       "      <td>eggplant</td>\n",
       "      <td>2.4</td>\n",
       "      <td>13</td>\n",
       "    </tr>\n",
       "  </tbody>\n",
       "</table>\n",
       "</div>"
      ],
      "text/plain": [
       "   id         name  price  count\n",
       "0   1        apple    3.0     15\n",
       "1   2       banana    2.7      8\n",
       "2   3      coconut    9.1     12\n",
       "3   4  dragonfruit    5.0      2\n",
       "4   5     eggplant    2.4     13"
      ]
     },
     "execution_count": 177,
     "metadata": {},
     "output_type": "execute_result"
    }
   ],
   "source": [
    "s.iloc().head()"
   ]
  },
  {
   "cell_type": "code",
   "execution_count": 250,
   "id": "613b81ad-181a-4e47-a2a3-31d6a985be54",
   "metadata": {},
   "outputs": [
    {
     "name": "stdout",
     "output_type": "stream",
     "text": [
      "<class 'dask.dataframe.core.DataFrame'>\n",
      "RangeIndex: 15 entries, 0 to 14\n",
      "Data columns (total 4 columns):\n",
      " #   Column  Non-Null Count  Dtype\n",
      "---  ------  --------------  -----\n",
      " 0   id      15 non-null      int64\n",
      " 1   name    15 non-null      object\n",
      " 2   price   15 non-null      float64\n",
      " 3   count   15 non-null      int64\n",
      "dtypes: object(1), float64(1), int64(2)\n",
      "memory usage: 608.0 bytes\n"
     ]
    }
   ],
   "source": [
    "s.raw().info(verbose=True, memory_usage=True)"
   ]
  },
  {
   "cell_type": "code",
   "execution_count": 143,
   "id": "65962b52-3ced-4d4d-b6bb-d7f46e31738a",
   "metadata": {},
   "outputs": [
    {
     "data": {
      "text/plain": [
       "Index(['id', 'name', 'price', 'count'], dtype='object')"
      ]
     },
     "execution_count": 143,
     "metadata": {},
     "output_type": "execute_result"
    }
   ],
   "source": [
    "s.columns()"
   ]
  },
  {
   "cell_type": "code",
   "execution_count": null,
   "id": "037c42cb-4583-46e0-be07-b2d36cf81b79",
   "metadata": {},
   "outputs": [],
   "source": []
  }
 ],
 "metadata": {
  "kernelspec": {
   "display_name": "Python 3 (ipykernel)",
   "language": "python",
   "name": "python3"
  },
  "language_info": {
   "codemirror_mode": {
    "name": "ipython",
    "version": 3
   },
   "file_extension": ".py",
   "mimetype": "text/x-python",
   "name": "python",
   "nbconvert_exporter": "python",
   "pygments_lexer": "ipython3",
   "version": "3.10.3"
  }
 },
 "nbformat": 4,
 "nbformat_minor": 5
}
