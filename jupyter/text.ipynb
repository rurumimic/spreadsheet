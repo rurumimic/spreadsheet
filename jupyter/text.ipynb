{
 "cells": [
  {
   "cell_type": "markdown",
   "id": "98286c28-d597-44d0-8aad-9e9656ed5e64",
   "metadata": {},
   "source": [
    "# Text"
   ]
  },
  {
   "cell_type": "code",
   "execution_count": 1,
   "id": "1edfdf57-7ed9-4fe3-b3bd-ae85cd6559d1",
   "metadata": {},
   "outputs": [],
   "source": [
    "from pathlib import Path\n",
    "\n",
    "project_dir = Path().resolve().parent  # spreadsheet\n",
    "data_dir = project_dir.joinpath(\"data\")  # spreadsheet/data"
   ]
  },
  {
   "cell_type": "code",
   "execution_count": 2,
   "id": "9696e01a-05db-406a-961b-a2c5bae46e24",
   "metadata": {},
   "outputs": [],
   "source": [
    "csv_files = {\n",
    "    \"fruits\": str(data_dir.joinpath(\"fruits.csv\")),\n",
    "    \"sejongpac_performs\": str(data_dir.joinpath(\"sejongpac_performs.csv\")),\n",
    "}"
   ]
  },
  {
   "cell_type": "markdown",
   "id": "6c8514cf-cb1b-4eb5-b7f2-65629bf9013a",
   "metadata": {},
   "source": [
    "## Read"
   ]
  },
  {
   "cell_type": "code",
   "execution_count": 4,
   "id": "f30280d3-4ee4-4af7-8560-6ed81c74eb9d",
   "metadata": {},
   "outputs": [
    {
     "name": "stdout",
     "output_type": "stream",
     "text": [
      "1 id,name,price,count\n",
      "2 1,apple,3.0,15\n",
      "3 2,banana,2.7,8\n",
      "4 3,coconut,9.1,12\n",
      "5 4,dragonfruit,5.0,2\n",
      "6 5,eggplant,2.4,13\n",
      "7 6,fig,11.3,39\n",
      "8 7,grapes,6.7,21\n",
      "9 8,huckleberry,7.1,4\n",
      "10 9,mango,5.4,1\n",
      "11 10,orange,4.8,16\n",
      "12 11,pineapple,7.9,8\n",
      "13 12,watermelon,13.0,11\n",
      "14 13,blueberry,4.9,21\n",
      "15 14,peach,8.0,17\n",
      "16 15,olives,3.8,34\n"
     ]
    }
   ],
   "source": [
    "count = 0\n",
    "with open(csv_files[\"fruits\"], \"r\") as file:\n",
    "    for line in file:\n",
    "        count = count + 1\n",
    "        print(count, line.rstrip(\"\\n\"))"
   ]
  },
  {
   "cell_type": "code",
   "execution_count": 5,
   "id": "c7fbac45-fb70-4bef-a80b-a755c054cd24",
   "metadata": {},
   "outputs": [
    {
     "name": "stdout",
     "output_type": "stream",
     "text": [
      "1 id\tname\tprice\tcount\n",
      "2 1\tapple\t3.0\t15\n",
      "3 2\tbanana\t2.7\t8\n",
      "4 3\tcoconut\t9.1\t12\n",
      "5 4\tdragonfruit\t5.0\t2\n",
      "6 5\teggplant\t2.4\t13\n",
      "7 6\tfig\t11.3\t39\n",
      "8 7\tgrapes\t6.7\t21\n",
      "9 8\thuckleberry\t7.1\t4\n",
      "10 9\tmango\t5.4\t1\n",
      "11 10\torange\t4.8\t16\n",
      "12 11\tpineapple\t7.9\t8\n",
      "13 12\twatermelon\t13.0\t11\n",
      "14 13\tblueberry\t4.9\t21\n",
      "15 14\tpeach\t8.0\t17\n",
      "16 15\tolives\t3.8\t34\n"
     ]
    }
   ],
   "source": [
    "count = 0\n",
    "with open(csv_files[\"fruits\"], \"r\") as file:\n",
    "    for line in file:\n",
    "        count = count + 1\n",
    "        raw = line.rstrip(\"\\n\")\n",
    "        encoded = raw.replace(\",\", \"\\t\")\n",
    "        print(count, encoded)"
   ]
  },
  {
   "cell_type": "code",
   "execution_count": 7,
   "id": "37044aec-a806-4383-a23c-aa00b8c594dd",
   "metadata": {},
   "outputs": [],
   "source": [
    "import re"
   ]
  },
  {
   "cell_type": "code",
   "execution_count": 57,
   "id": "803590db-9ec7-492c-8fed-4de1eea0564c",
   "metadata": {},
   "outputs": [],
   "source": [
    "def regex_compile(pattern):\n",
    "    return re.compile(r\"{pattern}\".format(pattern=pattern))"
   ]
  },
  {
   "cell_type": "code",
   "execution_count": 58,
   "id": "de9c361c-2966-41c5-802c-1e8a1339b679",
   "metadata": {},
   "outputs": [],
   "source": [
    "p = regex_compile(\"berry\")"
   ]
  },
  {
   "cell_type": "code",
   "execution_count": 62,
   "id": "84bdcfa4-a235-43b6-96a9-ee1c81f6c5d5",
   "metadata": {},
   "outputs": [
    {
     "name": "stdout",
     "output_type": "stream",
     "text": [
      "match 8,huckleberry,7.1,4\n",
      "match 13,blueberry,4.9,21\n"
     ]
    }
   ],
   "source": [
    "count = 0\n",
    "with open(csv_files[\"fruits\"], \"r\") as file:\n",
    "    for line in file:\n",
    "        count = count + 1\n",
    "        raw = line.rstrip(\"\\n\")\n",
    "        m = p.search(raw)\n",
    "        if m:\n",
    "            print(\"match\", raw)"
   ]
  },
  {
   "cell_type": "code",
   "execution_count": null,
   "id": "1423e9c9-2e99-4451-b106-60ac2ac1ccdf",
   "metadata": {},
   "outputs": [],
   "source": []
  },
  {
   "cell_type": "code",
   "execution_count": null,
   "id": "4b492441-16d8-4b0b-a0a9-52b87e4b99b0",
   "metadata": {},
   "outputs": [],
   "source": []
  }
 ],
 "metadata": {
  "kernelspec": {
   "display_name": "Python 3 (ipykernel)",
   "language": "python",
   "name": "python3"
  },
  "language_info": {
   "codemirror_mode": {
    "name": "ipython",
    "version": 3
   },
   "file_extension": ".py",
   "mimetype": "text/x-python",
   "name": "python",
   "nbconvert_exporter": "python",
   "pygments_lexer": "ipython3",
   "version": "3.10.3"
  }
 },
 "nbformat": 4,
 "nbformat_minor": 5
}
